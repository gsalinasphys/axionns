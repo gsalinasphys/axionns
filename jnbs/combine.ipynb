{
 "cells": [
  {
   "cell_type": "code",
   "execution_count": 20,
   "metadata": {},
   "outputs": [],
   "source": [
    "import os\n",
    "os.chdir('/home/gsalinas/Documents/GitHub/axionns/')\n",
    "\n",
    "import numpy as np\n",
    "import random\n",
    "import string\n",
    "\n",
    "from scripts.basic_functions import output_dir"
   ]
  },
  {
   "cell_type": "code",
   "execution_count": 21,
   "metadata": {},
   "outputs": [],
   "source": [
    "def join_conversions(events, size=3, chars=string.ascii_uppercase):\n",
    "    id_str = ''.join(random.choice(chars) for _ in range(size))\n",
    "    conversions, last_tag = [], 0\n",
    "    for event in events:\n",
    "        conversion = np.load(output_dir + event + '/' + event + '_conversion.npy')\n",
    "        conversion = np.array([conversion_elem + np.array([last_tag, 0, 0, 0, 0, 0, 0, 0, 0]) for conversion_elem in conversion])\n",
    "        conversions.extend(conversion)\n",
    "\n",
    "        last_tag = conversion[-1][0] + 1\n",
    "    \n",
    "    event_name = 'joinedMCNFW' + id_str\n",
    "    os.makedirs(output_dir + event_name, exist_ok=True)\n",
    "    np.save(output_dir + event_name + '/' + event_name, conversions)"
   ]
  },
  {
   "cell_type": "code",
   "execution_count": 22,
   "metadata": {},
   "outputs": [],
   "source": [
    "events = ['MCNFWCMJHZY', 'MCNFWMAIGNQ']"
   ]
  },
  {
   "cell_type": "code",
   "execution_count": 24,
   "metadata": {},
   "outputs": [],
   "source": [
    "join_conversions(events)"
   ]
  }
 ],
 "metadata": {
  "interpreter": {
   "hash": "916dbcbb3f70747c44a77c7bcd40155683ae19c65e1c03b4aa3499c5328201f1"
  },
  "kernelspec": {
   "display_name": "Python 3.8.10 64-bit",
   "language": "python",
   "name": "python3"
  },
  "language_info": {
   "codemirror_mode": {
    "name": "ipython",
    "version": 3
   },
   "file_extension": ".py",
   "mimetype": "text/x-python",
   "name": "python",
   "nbconvert_exporter": "python",
   "pygments_lexer": "ipython3",
   "version": "3.8.10"
  },
  "orig_nbformat": 4
 },
 "nbformat": 4,
 "nbformat_minor": 2
}
