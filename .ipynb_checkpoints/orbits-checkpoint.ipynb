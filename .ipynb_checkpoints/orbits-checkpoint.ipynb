{
 "cells": [
  {
   "cell_type": "code",
   "execution_count": 1,
   "metadata": {},
   "outputs": [],
   "source": [
    "import numpy as np\n",
    "import matplotlib.pyplot as plt\n",
    "from classes.ns import NeutronStar\n",
    "import multiprocess as mp\n",
    "from classes.axionstar import AxionStar\n",
    "from classes.minicluster import AxionMiniclusterNFW\n",
    "from classes.particles import Particles\n",
    "from scripts.orbits import evolve\n",
    "from scripts.basic_functions import output_dir, conv_factor_Msolar_eV\n",
    "\n",
    "plt.rcParams['figure.figsize'] = [24, 16]"
   ]
  },
  {
   "cell_type": "code",
   "execution_count": null,
   "metadata": {},
   "outputs": [
    {
     "name": "stdout",
     "output_type": "stream",
     "text": [
      "64\n"
     ]
    }
   ],
   "source": [
    "%%time\n",
    "\n",
    "if __name__ == '__main__':\n",
    "    mp.freeze_support()\n",
    "    ncores = mp.cpu_count()\n",
    "    pool = mp.Pool(ncores)\n",
    "\n",
    "    M_NS, R_NS = 1, 10\n",
    "    NS = NeutronStar(M_NS, R_NS)\n",
    "\n",
    "    vy_in = -200.\n",
    "    M_AS = 1\n",
    "    AS = AxionStar(M_AS, Particles.axionmass)\n",
    "    b = AS.radius99()\n",
    "    AS.center, AS.vcenter = [b, 1e16, 0], [0, vy_in, 0]\n",
    "    \n",
    "    M_MC = 1\n",
    "    MC = AxionMiniclusterNFW(M_MC, Particles.axionmass, vdisp_type='Maxwell-Boltzmann')\n",
    "    b = 0.2*MC.radius_trunc()\n",
    "    MC.center, MC.vcenter = [b, 1e16, 0], [0, vy_in, 0]\n",
    "\n",
    "    chosen_clump = MC\n",
    "    length, nparticles, batch_size, conservation_check = np.array([-1,1])/300, int(1.e3), int(1.e2), False\n",
    "    event, conservation_checks, mass_in, total_drawn = evolve(NS, chosen_clump, pool, nparticles, length = length, batch_size=batch_size, conservation_check = conservation_check)"
   ]
  },
  {
   "cell_type": "code",
   "execution_count": null,
   "metadata": {},
   "outputs": [],
   "source": [
    "Ntotal_drawn = total_drawn/mass_in*chosen_clump.mass\n",
    "if chosen_clump == MC:\n",
    "    Ntotal = 1e-5*conv_factor_Msolar_eV*chosen_clump.mass/Particles.axionmass\n",
    "elif chosen_clump == AS:\n",
    "    Ntotal = 1e-7*conv_factor_Msolar_eV*chosen_clump.mass/Particles.axionmass\n",
    "\n",
    "axions_per_traj = Ntotal/Ntotal_drawn"
   ]
  },
  {
   "cell_type": "code",
   "execution_count": null,
   "metadata": {},
   "outputs": [],
   "source": [
    "part_trajs = np.load(output_dir + event + '/' + event + '.npy')\n",
    "nparticles = int(part_trajs[-1][0]) + 1\n",
    "\n",
    "readme = open(output_dir + event + '/README.txt', 'a')\n",
    "readme.write('Number of saved trajectories: ' + str(nparticles) + '\\n')\n",
    "if conservation_check:\n",
    "    readme.write('Energy and angular momentum conservation was checked. It is valid up to ' + str(np.round(np.max(conservation_checks), 2)) + ' percent.\\n')\n",
    "else:\n",
    "    readme.write('Energy and angular momentum conservation was not checked.\\n')\n",
    "readme.write('Each trajectory correponds to ' + '{:.2e}'.format(axions_per_traj) + ' axions.\\n')\n",
    "readme.write('Axions were drawn from a cylinder of length ' + '{:.2e}'.format((length[1] - length[0])*chosen_clump.radius_trunc()) + ' km centered at ' + '{:.2e}'.format((length[1] + length[0])*chosen_clump.radius_trunc()) + ' km from the projection of the clump\\'s center on the y-axis.')\n",
    "readme.close()"
   ]
  },
  {
   "cell_type": "code",
   "execution_count": null,
   "metadata": {},
   "outputs": [],
   "source": [
    "ax = plt.gca()\n",
    "ax.set_aspect('equal')\n",
    "nsamples = np.min([int(1e3), nparticles])\n",
    "part_trajs_cut = part_trajs[:int(nsamples*float(len(part_trajs))/nparticles)]\n",
    "for i in np.arange(int(part_trajs_cut[-1][0])):\n",
    "    traj_chosen = np.array([[part_traj[3], part_traj[2]] for part_traj in part_trajs_cut if part_traj[0] == i]).T\n",
    "    ax.scatter(traj_chosen[0], traj_chosen[1], s = 1)\n",
    "\n",
    "NS = NeutronStar(M_NS, R_NS)\n",
    "circle1 = plt.Circle((0, 0), NS.radius, facecolor='purple', alpha = 0.5)\n",
    "ax.add_patch(circle1)\n",
    "ax.set_aspect('equal')\n",
    "\n",
    "plt.xlabel('y')\n",
    "plt.ylabel('x')\n",
    "plt.savefig(output_dir + event + '/' + event + '.png')"
   ]
  },
  {
   "cell_type": "code",
   "execution_count": null,
   "metadata": {},
   "outputs": [],
   "source": []
  }
 ],
 "metadata": {
  "interpreter": {
   "hash": "c2c1c2c5d31dd2871387777c80104f99faffe262fdebec3dae380fc7c671c441"
  },
  "kernelspec": {
   "display_name": "Python 3",
   "language": "python",
   "name": "python3"
  },
  "language_info": {
   "codemirror_mode": {
    "name": "ipython",
    "version": 3
   },
   "file_extension": ".py",
   "mimetype": "text/x-python",
   "name": "python",
   "nbconvert_exporter": "python",
   "pygments_lexer": "ipython3",
   "version": "3.8.5"
  }
 },
 "nbformat": 4,
 "nbformat_minor": 2
}
