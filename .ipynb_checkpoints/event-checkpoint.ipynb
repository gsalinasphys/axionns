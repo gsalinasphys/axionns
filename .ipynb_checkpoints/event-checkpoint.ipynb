{
 "cells": [
  {
   "cell_type": "code",
   "execution_count": 1,
   "id": "commercial-discharge",
   "metadata": {},
   "outputs": [],
   "source": [
    "import numpy as np\n",
    "import matplotlib.pyplot as plt\n",
    "import multiprocessing as mp\n",
    "\n",
    "from classes.ns import NeutronStar\n",
    "from classes.particles import Particles\n",
    "from classes.axionstar import AxionStar\n",
    "from classes.minicluster import AxionMiniclusterNFW\n",
    "\n",
    "from scripts.basic_functions import output_dir\n",
    "from scripts.orbits import evolve\n",
    "from scripts.conversion import conversion_probabilities, divide_into_singles, find_all_hits\n",
    "from scripts.event import choose_clump, axions_per_traj, add_to_readme\n",
    "\n",
    "plt.rcParams['figure.figsize'] = [24, 16]"
   ]
  },
  {
   "cell_type": "code",
   "execution_count": 5,
   "id": "mechanical-alfred",
   "metadata": {},
   "outputs": [],
   "source": [
    "############################## Define parameters here ###################################\n",
    "\n",
    "M_NS, R_NS = 1, 10\n",
    "\n",
    "MC_or_AS = 'MC'\n",
    "Mass = 1.   # In units of 10^{-10} M_solar or 10^{-12} M_solar\n",
    "vy_in, b = -200., 0.2   # b in units of MC.radius_trunc() or AS.radius99()\n",
    "delta, concentration = 1.55, 100\n",
    "\n",
    "length, nparticles, batch_size, conservation_check = np.array([-1,1])/300, int(640), int(10), False"
   ]
  },
  {
   "cell_type": "code",
   "execution_count": 6,
   "id": "daily-dinner",
   "metadata": {},
   "outputs": [],
   "source": [
    "%%time\n",
    "\n",
    "############################ Compute trajectories ###########################################\n",
    "\n",
    "chosen_clump = choose_clump(Mass, vy_in, b, MC_or_AS = MC_or_AS, delta = delta, concentration = concentration)\n",
    "NS = NeutronStar(M_NS, R_NS)\n",
    "\n",
    "if __name__ == '__main__':\n",
    "    mp.freeze_support()\n",
    "    ncores = mp.cpu_count()\n",
    "    pool = mp.Pool(ncores)\n",
    "\n",
    "    event, conservation_check_result, mass_in, total_drawn = evolve(NS, chosen_clump, pool, nparticles, length = length, batch_size=batch_size, conservation_check = conservation_check)\n",
    "\n",
    "part_trajs = np.load(output_dir + event + '/' + event + '.npy')\n",
    "naxions_per_traj = axions_per_traj(chosen_clump, total_drawn, mass_in)\n",
    "add_to_readme(event, part_trajs, chosen_clump, naxions_per_traj, conservation_check, conservation_check_result, length = length)"
   ]
  },
  {
   "cell_type": "code",
   "execution_count": 7,
   "id": "advisory-ministry",
   "metadata": {},
   "outputs": [],
   "source": [
    "############################ Plot some trajectories ###########################################\n",
    "\n",
    "ax = plt.gca()\n",
    "ax.set_aspect('equal')\n",
    "nsamples = np.min([int(1e3), nparticles])\n",
    "part_trajs_cut = part_trajs[:int(nsamples*float(len(part_trajs))/nparticles)]\n",
    "for i in np.arange(int(part_trajs_cut[-1][0])):\n",
    "    traj_chosen = np.array([[part_traj[3], part_traj[2]] for part_traj in part_trajs_cut if part_traj[0] == i]).T\n",
    "    ax.scatter(traj_chosen[0], traj_chosen[1], s = 1)\n",
    "\n",
    "circle1 = plt.Circle((0, 0), NS.radius, facecolor='purple', alpha = 0.5)\n",
    "ax.add_patch(circle1)\n",
    "ax.set_aspect('equal')\n",
    "\n",
    "plt.xlabel('y')\n",
    "plt.ylabel('x')\n",
    "plt.savefig(output_dir + event + '/' + event + '.png')"
   ]
  },
  {
   "cell_type": "code",
   "execution_count": 8,
   "id": "operating-field",
   "metadata": {},
   "outputs": [],
   "source": [
    "%%time\n",
    "\n",
    "############################ Conversion in the NS magnetosphere #####################################\n",
    "\n",
    "single_particles = divide_into_singles(part_trajs)\n",
    "\n",
    "if __name__ == '__main__':\n",
    "    all_hits = find_all_hits(single_particles, NS, pool)\n",
    "\n",
    "np.save(output_dir + event + '/' + event + '_conversion.npy', all_hits)"
   ]
  },
  {
   "cell_type": "code",
   "execution_count": 9,
   "id": "martial-center",
   "metadata": {},
   "outputs": [],
   "source": [
    "############################ Histogram of hits with time ###########################################\n",
    "\n",
    "all_ts = np.array(all_hits).T[1]\n",
    "all_ts -= np.min(all_ts)\n",
    "all_ts /= 3600.\n",
    "plt.hist(all_ts, bins=np.linspace(0, np.max(all_ts), int(np.max(all_ts)) + 1));\n",
    "plt.xlabel('Hour')\n",
    "plt.ylabel('Conversion events');\n",
    "\n",
    "plt.savefig(output_dir + event + '/' + event + '_hist.png')"
   ]
  },
  {
   "cell_type": "code",
   "execution_count": 10,
   "id": "fluid-green",
   "metadata": {},
   "outputs": [],
   "source": [
    "############################ Plot conversion surface ###########################################\n",
    "\n",
    "chosen_hour = int(all_ts[-1]/2)\n",
    "indices = np.where(np.logical_and(np.sort(all_ts) > chosen_hour, np.sort(all_ts) < chosen_hour + 1))[0]\n",
    "chosen_hits = all_hits[indices[0]: indices[-1]]\n",
    "\n",
    "X, Y, Z = np.array(chosen_hits).T[2:5]\n",
    "ax = plt.axes(projection='3d')\n",
    "ax.scatter3D(X, Y, Z);\n",
    "\n",
    "Xsurf, Ysurf, Zsurf = NS.conversion_surface_est(0., Particles.axionmass).T\n",
    "ax.scatter3D(Xsurf, Ysurf, Zsurf, c = 'purple', alpha = 0.01, s = 100);\n",
    "ax.set_xlabel('x');\n",
    "ax.set_ylabel('y');\n",
    "ax.set_zlabel('z');\n",
    "\n",
    "plt.savefig(output_dir + event + '/' + event + '_conversion.png')"
   ]
  },
  {
   "cell_type": "code",
   "execution_count": 11,
   "id": "secret-guarantee",
   "metadata": {},
   "outputs": [],
   "source": [
    "############################ Conversion probabilities ###########################################\n",
    "\n",
    "gag = 1. # In units of 10^{-14} GeV-1\n",
    "probabilities = conversion_probabilities(all_hits, gag, epsilon = 1e-8)\n",
    "\n",
    "np.save(output_dir + event + '/' + event + '_conversion.npy', probabilities)"
   ]
  },
  {
   "cell_type": "code",
   "execution_count": null,
   "id": "undefined-contrast",
   "metadata": {},
   "outputs": [],
   "source": [
    "probabilities = np.load(output_dir + event + '/' + event + '_conversion.npy')\n",
    "probabilities"
   ]
  }
 ],
 "metadata": {
  "kernelspec": {
   "display_name": "Python 3",
   "language": "python",
   "name": "python3"
  },
  "language_info": {
   "codemirror_mode": {
    "name": "ipython",
    "version": 3
   },
   "file_extension": ".py",
   "mimetype": "text/x-python",
   "name": "python",
   "nbconvert_exporter": "python",
   "pygments_lexer": "ipython3",
   "version": "3.8.5"
  }
 },
 "nbformat": 4,
 "nbformat_minor": 5
}
